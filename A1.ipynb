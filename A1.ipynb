{
 "cells": [
  {
   "cell_type": "code",
   "execution_count": 25,
   "id": "d3f259c1",
   "metadata": {},
   "outputs": [
    {
     "name": "stdout",
     "output_type": "stream",
     "text": [
      "df.shape:\n",
      "(30478, 13) \n",
      "\n",
      "df.dtypes:\n",
      "Host Id                         int64\n",
      "Host Since                     object\n",
      "Name                           object\n",
      "Neighbourhood                  object\n",
      "Property Type                  object\n",
      "Review Scores Rating (bin)    float64\n",
      "Room Type                      object\n",
      "Zipcode                       float64\n",
      "Beds                          float64\n",
      "Number of Records               int64\n",
      "Number Of Reviews               int64\n",
      "Price                          object\n",
      "Review Scores Rating          float64\n",
      "dtype: object \n",
      "\n",
      "df.columns:\n",
      "Index(['Host Id', 'Host Since', 'Name', 'Neighbourhood ', 'Property Type',\n",
      "       'Review Scores Rating (bin)', 'Room Type', 'Zipcode', 'Beds',\n",
      "       'Number of Records', 'Number Of Reviews', 'Price',\n",
      "       'Review Scores Rating'],\n",
      "      dtype='object') \n",
      "\n",
      "Before coercion: \n",
      " count     30478\n",
      "unique      511\n",
      "top         150\n",
      "freq       1481\n",
      "Name: Price, dtype: object \n",
      "\n",
      "After coercion: \n",
      " count    30478.000000\n",
      "mean       163.589737\n",
      "std        197.785454\n",
      "min         10.000000\n",
      "25%         80.000000\n",
      "50%        125.000000\n",
      "75%        195.000000\n",
      "max      10000.000000\n",
      "Name: Price, dtype: float64 \n",
      "\n",
      "Total Missings: \n",
      " 0 \n",
      "\n"
     ]
    },
    {
     "data": {
      "image/png": "[encoded data removed]",
      "text/plain": [
       "<Figure size 640x480 with 1 Axes>"
      ]
     },
     "metadata": {},
     "output_type": "display_data"
    }
   ],
   "source": [
    "import numpy as np # Import the numpy package into your workspace\n",
    "import matplotlib.pyplot as plt # Import matplotlib into your workspace\n",
    "import pandas as pd  # Import the pandas package into your workspace\n",
    "\n",
    "df = pd.read_csv('./data/airbnb_hw.csv',low_memory=False)\n",
    "\n",
    "print(\"df.shape:\")\n",
    "print(df.shape, '\\n')\n",
    "\n",
    "print(\"df.dtypes:\")\n",
    "print(df.dtypes, '\\n')\n",
    "\n",
    "print(\"df.columns:\")\n",
    "print(df.columns, '\\n')\n",
    "\n",
    "df.head()\n",
    "\n",
    "var = 'Price' # clean the price variable\n",
    "print('Before coercion: \\n', df[var].describe(),'\\n')\n",
    "df[var].hist(bins=50)\n",
    "\n",
    "df['Price'] =df['Price'].astype(str).str.replace(',', '').str.replace('$','')\n",
    "df['Price'] = pd.to_numeric(df['Price'], errors='coerce')\n",
    "df['price_nan'] = df['Price'].isnull() # Equals 1 if missing, 0 if non-null\n",
    "\n",
    "print('After coercion: \\n', df['Price'].describe(),'\\n') # Describe the numeric variable\n",
    "df['Price'].hist(bins = 50) # Histogram of the variable values\n",
    "print('Total Missings: \\n', sum(df['price_nan']),'\\n') # How many missing values are there?\n",
    "\n",
    "\n",
    "#There are 0 missing values. Once you get above 999, you have to convert the commas. "
   ]
  },
  {
   "cell_type": "code",
   "execution_count": 13,
   "id": "1e474077",
   "metadata": {},
   "outputs": [
    {
     "name": "stdout",
     "output_type": "stream",
     "text": [
      "df.shape:\n",
      "(12925, 13) \n",
      "\n",
      "df.dtypes:\n",
      "response_datetime     object\n",
      "problem               object\n",
      "is_911_call           object\n",
      "primary_offense       object\n",
      "subject_injury        object\n",
      "force_type            object\n",
      "force_type_action     object\n",
      "race                  object\n",
      "sex                   object\n",
      "age                  float64\n",
      "type_resistance       object\n",
      "precinct               int64\n",
      "neighborhood          object\n",
      "dtype: object \n",
      "\n",
      "df.columns:\n",
      "Index(['response_datetime', 'problem', 'is_911_call', 'primary_offense',\n",
      "       'subject_injury', 'force_type', 'force_type_action', 'race', 'sex',\n",
      "       'age', 'type_resistance', 'precinct', 'neighborhood'],\n",
      "      dtype='object') \n",
      "\n",
      "[nan 'No' 'Yes'] \n",
      "\n",
      "subject_injury\n",
      "Yes    1631\n",
      "No     1446\n",
      "Name: count, dtype: int64 \n",
      "\n",
      "9848 \n",
      "\n",
      "12925 \n",
      "\n",
      "0.7619342359767892 \n",
      "\n",
      "force_type      Baton  Bodily Force  Chemical Irritant  Firearm  \\\n",
      "subject_injury                                                    \n",
      "No                  0          1093                131        2   \n",
      "Yes                 2          1286                 41        0   \n",
      "\n",
      "force_type      Gun Point Display  Improvised Weapon  Less Lethal Projectile  \\\n",
      "subject_injury                                                                 \n",
      "No                             33                 34                       1   \n",
      "Yes                            44                 40                       2   \n",
      "\n",
      "force_type      Police K9 Bite  Taser  \n",
      "subject_injury                         \n",
      "No                           2    150  \n",
      "Yes                         44    172   \n",
      "\n"
     ]
    }
   ],
   "source": [
    "import numpy as np # Import the numpy package into your workspace\n",
    "import matplotlib.pyplot as plt # Import matplotlib into your workspace\n",
    "import pandas as pd  # Import the pandas package into your workspace\n",
    "\n",
    "df = pd.read_csv('./data/mn_police_use_of_force.csv',low_memory=False)\n",
    "\n",
    "print(\"df.shape:\")\n",
    "print(df.shape, '\\n') \n",
    "\n",
    "print(\"df.dtypes:\")\n",
    "print(df.dtypes, '\\n')\n",
    "\n",
    "print(\"df.columns:\")\n",
    "print(df.columns, '\\n')\n",
    "\n",
    "df.head()\n",
    "\n",
    "var = 'subject_injury'\n",
    "print(df['subject_injury'].unique(), '\\n') # A Categorical Example\n",
    "df['subject_injury'] = df['subject_injury'].replace(' ',np.nan) # Notice the column replacement\n",
    "print(df['subject_injury'].value_counts(), '\\n')\n",
    "\n",
    "print(df['subject_injury'].isnull().sum(), '\\n') # Total number of missing values\n",
    "print(len(df), '\\n') # Total number of observations\n",
    "print(df['subject_injury'].isnull().sum() / len(df), '\\n') # Proportion of missing values\n",
    "\n",
    "ct = pd.crosstab(df['subject_injury'], df['force_type'])\n",
    "print(ct, '\\n')\n",
    "\n",
    "#About 76% of the values are missing. This is a big concern and the pattern of data missing is the force types that are used with a weapon. \n",
    "\n"
   ]
  },
  {
   "cell_type": "code",
   "execution_count": 27,
   "id": "24cb7454",
   "metadata": {},
   "outputs": [
    {
     "name": "stdout",
     "output_type": "stream",
     "text": [
      "df.shape:\n",
      "(22986, 709) \n",
      "\n",
      "df.dtypes:\n",
      "InternalStudyID                                                 object\n",
      "REQ_REC#                                                        object\n",
      "Defendant_Sex                                                   object\n",
      "Defendant_Race                                                  object\n",
      "Defendant_BirthYear                                             object\n",
      "                                                                 ...  \n",
      "NewFelonySexualAssaultArrest_Disposition                        object\n",
      "Intertnalindicator_ReasonforExcludingFromFollowUpAnalysis        int64\n",
      "CriminalHistoryRecordsReturnedorCMSRecordsFoundforIndividual    object\n",
      "DispRecordFoundforChargesinOct2017Contact_Atleast1dispfound      int64\n",
      "CrimeCommission2021ReportClassificationofDefendants             object\n",
      "Length: 709, dtype: object \n",
      "\n",
      "df.columns:\n",
      "Index(['InternalStudyID', 'REQ_REC#', 'Defendant_Sex', 'Defendant_Race',\n",
      "       'Defendant_BirthYear', 'Defendant_Age', 'Defendant_AgeGroup',\n",
      "       'Defendant_AgeatCurrentArrest', 'Defendant_AttorneyTypeAtCaseClosure',\n",
      "       'Defendant_IndigencyStatus',\n",
      "       ...\n",
      "       'NewFelonySexualAssaultArrest_OffDate',\n",
      "       'NewFelonySexualAssaultArrest_ArrestDate',\n",
      "       'NewFelonySexualAssaultArrest_DaysBetweenContactEventandOffDate',\n",
      "       'NewFelonySexualAssaultArrest_DaysBetweenOffDateandArrestDate',\n",
      "       'NewFelonySexualAssaultArrest_DaysBetweenReleaseDateandOffDate',\n",
      "       'NewFelonySexualAssaultArrest_Disposition',\n",
      "       'Intertnalindicator_ReasonforExcludingFromFollowUpAnalysis',\n",
      "       'CriminalHistoryRecordsReturnedorCMSRecordsFoundforIndividual',\n",
      "       'DispRecordFoundforChargesinOct2017Contact_Atleast1dispfound',\n",
      "       'CrimeCommission2021ReportClassificationofDefendants'],\n",
      "      dtype='object', length=709) \n",
      "\n",
      "[9 0 1] \n",
      "\n",
      "WhetherDefendantWasReleasedPretrial\n",
      "1.0    19154\n",
      "0.0     3801\n",
      "Name: count, dtype: int64\n"
     ]
    }
   ],
   "source": [
    "import numpy as np # Import the numpy package into your workspace\n",
    "import matplotlib.pyplot as plt # Import matplotlib into your workspace\n",
    "import pandas as pd  # Import the pandas package into your workspace\n",
    "\n",
    "url = 'http://www.vcsc.virginia.gov/pretrialdataproject/October%202017%20Cohort_Virginia%20Pretrial%20Data%20Project_Deidentified%20FINAL%20Update_10272021.csv'\n",
    "df = pd.read_csv(url, low_memory=False)\n",
    "df.shape\n",
    "\n",
    "print(\"df.shape:\")\n",
    "print(df.shape, '\\n') \n",
    "\n",
    "print(\"df.dtypes:\")\n",
    "print(df.dtypes, '\\n')\n",
    "\n",
    "print(\"df.columns:\")\n",
    "print(df.columns, '\\n')\n",
    "\n",
    "df.head()\n",
    "\n",
    "var = 'WhetherDefendantWasReleasedPretrial' # A Dummy Example\n",
    "print(df['WhetherDefendantWasReleasedPretrial'].unique(), '\\n')\n",
    "df[var] = df['WhetherDefendantWasReleasedPretrial'].replace([9,99], np.nan) # Notice the list\n",
    "print(df['WhetherDefendantWasReleasedPretrial'].value_counts()) "
   ]
  },
  {
   "cell_type": "code",
   "execution_count": 2,
   "id": "d3cafd6c",
   "metadata": {},
   "outputs": [
    {
     "name": "stdout",
     "output_type": "stream",
     "text": [
      "df.shape:\n",
      "(22986, 709) \n",
      "\n",
      "df.dtypes:\n",
      "InternalStudyID                                                 object\n",
      "REQ_REC#                                                        object\n",
      "Defendant_Sex                                                   object\n",
      "Defendant_Race                                                  object\n",
      "Defendant_BirthYear                                             object\n",
      "                                                                 ...  \n",
      "NewFelonySexualAssaultArrest_Disposition                        object\n",
      "Intertnalindicator_ReasonforExcludingFromFollowUpAnalysis        int64\n",
      "CriminalHistoryRecordsReturnedorCMSRecordsFoundforIndividual    object\n",
      "DispRecordFoundforChargesinOct2017Contact_Atleast1dispfound      int64\n",
      "CrimeCommission2021ReportClassificationofDefendants             object\n",
      "Length: 709, dtype: object \n",
      "\n",
      "df.columns:\n",
      "Index(['InternalStudyID', 'REQ_REC#', 'Defendant_Sex', 'Defendant_Race',\n",
      "       'Defendant_BirthYear', 'Defendant_Age', 'Defendant_AgeGroup',\n",
      "       'Defendant_AgeatCurrentArrest', 'Defendant_AttorneyTypeAtCaseClosure',\n",
      "       'Defendant_IndigencyStatus',\n",
      "       ...\n",
      "       'NewFelonySexualAssaultArrest_OffDate',\n",
      "       'NewFelonySexualAssaultArrest_ArrestDate',\n",
      "       'NewFelonySexualAssaultArrest_DaysBetweenContactEventandOffDate',\n",
      "       'NewFelonySexualAssaultArrest_DaysBetweenOffDateandArrestDate',\n",
      "       'NewFelonySexualAssaultArrest_DaysBetweenReleaseDateandOffDate',\n",
      "       'NewFelonySexualAssaultArrest_Disposition',\n",
      "       'Intertnalindicator_ReasonforExcludingFromFollowUpAnalysis',\n",
      "       'CriminalHistoryRecordsReturnedorCMSRecordsFoundforIndividual',\n",
      "       'DispRecordFoundforChargesinOct2017Contact_Atleast1dispfound',\n",
      "       'CrimeCommission2021ReportClassificationofDefendants'],\n",
      "      dtype='object', length=709) \n",
      "\n",
      "count     22986\n",
      "unique      484\n",
      "top            \n",
      "freq       9053\n",
      "Name: ImposedSentenceAllChargeInContactEvent, dtype: object \n",
      "\n",
      "0 \n",
      "\n",
      "ImposedSentenceAllChargeInContactEvent           .0328542094455852  \\\n",
      "ImposedSentenceAllChargeInContactEvent_na                            \n",
      "False                                      9053                  6   \n",
      "\n",
      "ImposedSentenceAllChargeInContactEvent     .0657084188911704  \\\n",
      "ImposedSentenceAllChargeInContactEvent_na                      \n",
      "False                                                     24   \n",
      "\n",
      "ImposedSentenceAllChargeInContactEvent     .0985626283367557  \\\n",
      "ImposedSentenceAllChargeInContactEvent_na                      \n",
      "False                                                      8   \n",
      "\n",
      "ImposedSentenceAllChargeInContactEvent     .131416837782341  .164271047227926  \\\n",
      "ImposedSentenceAllChargeInContactEvent_na                                       \n",
      "False                                                    14                59   \n",
      "\n",
      "ImposedSentenceAllChargeInContactEvent     .197125256673511  .262833675564682  \\\n",
      "ImposedSentenceAllChargeInContactEvent_na                                       \n",
      "False                                                     6                 3   \n",
      "\n",
      "ImposedSentenceAllChargeInContactEvent     .328542094455852  .394250513347023  \\\n",
      "ImposedSentenceAllChargeInContactEvent_na                                       \n",
      "False                                                   613                 3   \n",
      "\n",
      "ImposedSentenceAllChargeInContactEvent     ...  94.1642710472279  95  96  \\\n",
      "ImposedSentenceAllChargeInContactEvent_na  ...                             \n",
      "False                                      ...                 1   1  39   \n",
      "\n",
      "ImposedSentenceAllChargeInContactEvent     96.0328542094456  960  98  \\\n",
      "ImposedSentenceAllChargeInContactEvent_na                              \n",
      "False                                                     1    1   1   \n",
      "\n",
      "ImposedSentenceAllChargeInContactEvent     98.95687885  99  99.3285420944559  \\\n",
      "ImposedSentenceAllChargeInContactEvent_na                                      \n",
      "False                                                1   1                 1   \n",
      "\n",
      "ImposedSentenceAllChargeInContactEvent     99.4928131416838  \n",
      "ImposedSentenceAllChargeInContactEvent_na                    \n",
      "False                                                     1  \n",
      "\n",
      "[1 rows x 484 columns] \n",
      "\n"
     ]
    }
   ],
   "source": [
    "import numpy as np # Import the numpy package into your workspace\n",
    "import matplotlib.pyplot as plt # Import matplotlib into your workspace\n",
    "import pandas as pd  # Import the pandas package into your workspace\n",
    "\n",
    "url = 'http://www.vcsc.virginia.gov/pretrialdataproject/October%202017%20Cohort_Virginia%20Pretrial%20Data%20Project_Deidentified%20FINAL%20Update_10272021.csv'\n",
    "df = pd.read_csv(url, low_memory=False)\n",
    "df.shape\n",
    "\n",
    "print(\"df.shape:\")\n",
    "print(df.shape, '\\n') \n",
    "\n",
    "print(\"df.dtypes:\")\n",
    "print(df.dtypes, '\\n')\n",
    "\n",
    "print(\"df.columns:\")\n",
    "print(df.columns, '\\n')\n",
    "\n",
    "df.head()\n",
    "\n",
    "var = 'ImposedSentenceAllChargeInContactEvent'\n",
    "print(df[var].describe(), '\\n')\n",
    "print(df[var].isnull().sum(), '\\n')\n",
    "\n",
    "df['ImposedSentenceAllChargeInContactEvent_na'] = df[var].isnull()\n",
    "print(pd.crosstab(df['ImposedSentenceAllChargeInContactEvent_na'], df['ImposedSentenceAllChargeInContactEvent']), '\\n')"
   ]
  },
  {
   "cell_type": "code",
   "execution_count": null,
   "id": "48b0765f",
   "metadata": {},
   "outputs": [
    {
     "name": "stdout",
     "output_type": "stream",
     "text": [
      "df.shape:\n",
      "(7042, 23) \n",
      "\n",
      "df.dtypes:\n",
      "Date               object\n",
      "Year              float64\n",
      "Type               object\n",
      "Country            object\n",
      "State              object\n",
      "Location           object\n",
      "Activity           object\n",
      "Name               object\n",
      "Sex                object\n",
      "Age                object\n",
      "Injury             object\n",
      "Fatal Y/N          object\n",
      "Time               object\n",
      "Species            object\n",
      "Source             object\n",
      "pdf                object\n",
      "href formula       object\n",
      "href               object\n",
      "Case Number        object\n",
      "Case Number.1      object\n",
      "original order    float64\n",
      "Unnamed: 21        object\n",
      "Unnamed: 22        object\n",
      "dtype: object \n",
      "\n",
      "df.columns:\n",
      "Index(['Date', 'Year', 'Type', 'Country', 'State', 'Location', 'Activity',\n",
      "       'Name', 'Sex', 'Age', 'Injury', 'Fatal Y/N', 'Time', 'Species ',\n",
      "       'Source', 'pdf', 'href formula', 'href', 'Case Number', 'Case Number.1',\n",
      "       'original order', 'Unnamed: 21', 'Unnamed: 22'],\n",
      "      dtype='object') \n",
      "\n",
      "(7042, 23) \n",
      "\n",
      "count    7040.000000\n",
      "mean     1935.621449\n",
      "std       271.221061\n",
      "min         0.000000\n",
      "25%      1948.000000\n",
      "50%      1986.000000\n",
      "75%      2010.000000\n",
      "max      2026.000000\n",
      "Name: Year, dtype: float64 \n",
      "\n"
     ]
    },
    {
     "data": {
      "image/png": "[encoded data removed]",
      "text/plain": [
       "<Figure size 640x480 with 1 Axes>"
      ]
     },
     "metadata": {},
     "output_type": "display_data"
    }
   ],
   "source": [
    "import numpy as np # Import the numpy package into your workspace\n",
    "import matplotlib.pyplot as plt # Import matplotlib into your workspace\n",
    "import pandas as pd  # Import the pandas package into your workspace\n",
    "\n",
    "url = 'https://sharkattackfile.net/spreadsheets/GSAF5.xls'\n",
    "df = pd.read_excel(url)\n",
    "\n",
    "print(\"df.shape:\")\n",
    "print(df.shape, '\\n') \n",
    "\n",
    "print(\"df.dtypes:\")\n",
    "print(df.dtypes, '\\n')\n",
    "\n",
    "print(\"df.columns:\")\n",
    "print(df.columns, '\\n')\n",
    "\n",
    "df = df.dropna(axis=1, how='all')\n",
    "print(df.shape, '\\n')\n",
    "\n"
   ]
  },
  {
   "cell_type": "code",
   "execution_count": 18,
   "id": "fd47c8b1",
   "metadata": {},
   "outputs": [
    {
     "name": "stdout",
     "output_type": "stream",
     "text": [
      "count    5507.000000\n",
      "mean     1992.225350\n",
      "std        24.169336\n",
      "min      1940.000000\n",
      "25%      1970.000000\n",
      "50%      2000.000000\n",
      "75%      2013.000000\n",
      "max      2026.000000\n",
      "Name: Year, dtype: float64 \n",
      "\n"
     ]
    },
    {
     "data": {
      "text/plain": [
       "<Axes: >"
      ]
     },
     "execution_count": 18,
     "metadata": {},
     "output_type": "execute_result"
    },
    {
     "data": {
      "image/png": "[encoded data removed]",
      "text/plain": [
       "<Figure size 640x480 with 1 Axes>"
      ]
     },
     "metadata": {},
     "output_type": "display_data"
    }
   ],
   "source": [
    "df['Year'] = pd.to_numeric(df['Year'], errors='coerce')  \n",
    "print(df['Year'].describe(), '\\n')\n",
    "\n",
    "df = df[df['Year'] >= 1940]  # Filter\n",
    "df['Year'].hist(bins=80)\n",
    "\n",
    "\n",
    "# The range of attacks have increased since the 2000\n",
    "# The attacks increased in 1930 then decreased then increased at a faster rate starting from 2000 but have decreased in the recent years. "
   ]
  },
  {
   "cell_type": "code",
   "execution_count": null,
   "id": "4ebe1ecf",
   "metadata": {},
   "outputs": [
    {
     "data": {
      "text/plain": [
       "<Axes: >"
      ]
     },
     "execution_count": 17,
     "metadata": {},
     "output_type": "execute_result"
    },
    {
     "data": {
      "image/png": "[encoded data removed]",
      "text/plain": [
       "<Figure size 640x480 with 1 Axes>"
      ]
     },
     "metadata": {},
     "output_type": "display_data"
    }
   ],
   "source": [
    "df['Age'] = pd.to_numeric(df['Age'], errors='coerce')\n",
    "df['Age'].hist(bins=30)\n"
   ]
  },
  {
   "cell_type": "code",
   "execution_count": 21,
   "id": "f3174737",
   "metadata": {},
   "outputs": [
    {
     "name": "stdout",
     "output_type": "stream",
     "text": [
      "Sex\n",
      "M        4333\n",
      "F         720\n",
      "LLI         1\n",
      "M X 2       1\n",
      "Name: count, dtype: int64 \n",
      "\n"
     ]
    }
   ],
   "source": [
    "var = 'Sex'\n",
    "df[var] = df[var].str.strip().str.upper()\n",
    "print(df[var].value_counts(), '\\n')"
   ]
  },
  {
   "cell_type": "code",
   "execution_count": 22,
   "id": "d0768a4d",
   "metadata": {},
   "outputs": [
    {
     "name": "stdout",
     "output_type": "stream",
     "text": [
      "Type\n",
      "Unprovoked    0.744144\n",
      "Unknown       0.161431\n",
      "Provoked      0.094425\n",
      "Name: proportion, dtype: float64 \n",
      "\n"
     ]
    }
   ],
   "source": [
    "df['Type'] = df['Type'].str.strip().str.capitalize()\n",
    "df['Type'] = df['Type'].where(df['Type'].isin(['Unprovoked', 'Provoked']), 'Unknown')\n",
    "print(df['Type'].value_counts(normalize=True), '\\n')  # Proportion unprovoked\n"
   ]
  },
  {
   "cell_type": "code",
   "execution_count": null,
   "id": "4cca6aa7",
   "metadata": {},
   "outputs": [
    {
     "name": "stdout",
     "output_type": "stream",
     "text": [
      "Fatal Y/N\n",
      "N          0.766479\n",
      "Y          0.149628\n",
      "Unknown    0.083893\n",
      "Name: proportion, dtype: float64 \n",
      "\n",
      "Type   Provoked   Unknown  Unprovoked\n",
      "Sex                                  \n",
      "F      0.058824  0.127010    0.154915\n",
      "LLI    0.000000  0.000000    0.000253\n",
      "M      0.941176  0.871383    0.844832\n",
      "M X 2  0.000000  0.001608    0.000000 \n",
      "\n",
      "Fatal Y/N          N   Unknown         Y\n",
      "Type                                    \n",
      "Provoked    0.957692  0.017308  0.025000\n",
      "Unknown     0.411699  0.449944  0.138358\n",
      "Unprovoked  0.819180  0.012933  0.167887 \n",
      "\n",
      "Fatal Y/N         N   Unknown         Y\n",
      "Sex                                    \n",
      "F          0.794444  0.081944  0.123611\n",
      "LLI        1.000000  0.000000  0.000000\n",
      "M          0.773367  0.074544  0.152089\n",
      "M X 2      0.000000  1.000000  0.000000 \n",
      "\n"
     ]
    }
   ],
   "source": [
    "df['Fatal Y/N'] = df['Fatal Y/N'].str.strip().str.upper()\n",
    "df['Fatal Y/N'] = df['Fatal Y/N'].where(df['Fatal Y/N'].isin(['Y', 'N']), 'Unknown')\n",
    "print(df['Fatal Y/N'].value_counts(normalize=True), '\\n')\n",
    "\n",
    "print(pd.crosstab(df['Sex'], df['Type'], normalize='columns'), '\\n')\n",
    "# It attacks men more unprovoked\n",
    "\n",
    "print(pd.crosstab(df['Type'], df['Fatal Y/N'], normalize='index'), '\\n')\n",
    "#It is more fatal when it is unprovoked\n",
    "\n",
    "print(pd.crosstab(df['Sex'], df['Fatal Y/N'], normalize='index'), '\\n')\n",
    "#More fatal for men than women \n",
    "\n"
   ]
  },
  {
   "cell_type": "code",
   "execution_count": 40,
   "id": "56ff8a58",
   "metadata": {},
   "outputs": [
    {
     "name": "stdout",
     "output_type": "stream",
     "text": [
      "0.12874523333938623 \n",
      "\n"
     ]
    }
   ],
   "source": [
    "var = 'Species '\n",
    "df[var] = df[var].astype(str).str.lower()\n",
    "\n",
    "df['white_shark'] = df[var].str.contains('white', na=False)\n",
    "print(df['white_shark'].mean(), '\\n')  # Proportion\n"
   ]
  },
  {
   "cell_type": "code",
   "execution_count": null,
   "id": "b6955efc",
   "metadata": {},
   "outputs": [],
   "source": []
  }
 ],
 "metadata": {
  "kernelspec": {
   "display_name": "Python 3",
   "language": "python",
   "name": "python3"
  },
  "language_info": {
   "codemirror_mode": {
    "name": "ipython",
    "version": 3
   },
   "file_extension": ".py",
   "mimetype": "text/x-python",
   "name": "python",
   "nbconvert_exporter": "python",
   "pygments_lexer": "ipython3",
   "version": "3.12.1"
  }
 },
 "nbformat": 4,
 "nbformat_minor": 5
}
